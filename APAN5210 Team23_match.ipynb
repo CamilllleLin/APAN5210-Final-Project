{
 "cells": [
  {
   "cell_type": "code",
   "execution_count": 1,
   "id": "be6cc6c6",
   "metadata": {
    "executionInfo": {
     "elapsed": 593,
     "status": "ok",
     "timestamp": 1682856414332,
     "user": {
      "displayName": "Yuzhen He",
      "userId": "14863258157438259335"
     },
     "user_tz": 240
    },
    "id": "be6cc6c6"
   },
   "outputs": [],
   "source": [
    "import pandas as pd"
   ]
  },
  {
   "cell_type": "code",
   "execution_count": 2,
   "id": "ce526a5f",
   "metadata": {
    "id": "ce526a5f"
   },
   "outputs": [],
   "source": [
    "#\n",
    "right=pd.read_csv('right_dataset.csv')\n",
    "left=pd.read_csv('left_dataset.csv')"
   ]
  },
  {
   "cell_type": "code",
   "execution_count": 3,
   "id": "fbbd52ba",
   "metadata": {
    "id": "fbbd52ba"
   },
   "outputs": [],
   "source": [
    "left.replace(to_replace=pd.NA, value='', inplace=True)"
   ]
  },
  {
   "cell_type": "code",
   "execution_count": 4,
   "id": "abc59301",
   "metadata": {
    "id": "abc59301"
   },
   "outputs": [],
   "source": [
    "########################################################"
   ]
  },
  {
   "cell_type": "code",
   "execution_count": 5,
   "id": "51b73f6a",
   "metadata": {
    "id": "51b73f6a"
   },
   "outputs": [],
   "source": [
    "class StateDataFrame:\n",
    "\n",
    "    def __init__(self, left, right):\n",
    "        self.left = left\n",
    "        self.right = right\n",
    "        self.left_states = set(self.left['city'])\n",
    "        self.right_states = set(self.right['city'])\n",
    "        self.left_state_dfs = {}\n",
    "        self.right_state_dfs = {}\n",
    "        for state in self.left_states:\n",
    "            self.left_state_dfs[state] = self.left[self.left['city'] == state]\n",
    "        for state in self.right_states:\n",
    "            self.right_state_dfs[state] = self.right[self.right['city'] == state]\n",
    "        \n",
    "    def get_left_state_df(self, state):\n",
    "        return self.left_state_dfs[state]\n",
    "    \n",
    "    def get_right_state_df(self, state):\n",
    "        return self.right_state_dfs[state]"
   ]
  },
  {
   "cell_type": "code",
   "execution_count": 6,
   "id": "abe0d0e3",
   "metadata": {
    "colab": {
     "base_uri": "https://localhost:8080/"
    },
    "id": "abe0d0e3",
    "outputId": "2c9c39b4-c01a-4bcd-9561-cdc6191eab1e"
   },
   "outputs": [
    {
     "data": {
      "text/plain": [
       "901"
      ]
     },
     "execution_count": 6,
     "metadata": {},
     "output_type": "execute_result"
    }
   ],
   "source": [
    "city_list_left = list(left['city'].unique())\n",
    "len(city_list_left)"
   ]
  },
  {
   "cell_type": "code",
   "execution_count": 7,
   "id": "04bacd11",
   "metadata": {
    "colab": {
     "base_uri": "https://localhost:8080/"
    },
    "id": "04bacd11",
    "outputId": "a4b5e67d-b94a-47bc-b120-5a7a32dd25f5"
   },
   "outputs": [
    {
     "data": {
      "text/plain": [
       "155"
      ]
     },
     "execution_count": 7,
     "metadata": {},
     "output_type": "execute_result"
    }
   ],
   "source": [
    "city_list_right= list(right['city'].unique())\n",
    "len(city_list_right)"
   ]
  },
  {
   "cell_type": "code",
   "execution_count": 8,
   "id": "ac3be492",
   "metadata": {
    "id": "ac3be492"
   },
   "outputs": [],
   "source": [
    "unique_cities_right = set(city_list_right)\n",
    "filtered_left = pd.DataFrame(left[left['city'].isin(unique_cities_right)])"
   ]
  },
  {
   "cell_type": "code",
   "execution_count": 9,
   "id": "40d1cfa4",
   "metadata": {
    "id": "40d1cfa4"
   },
   "outputs": [],
   "source": [
    "unique_cities_left = set(filtered_left['city'].unique())\n",
    "filtered_right = pd.DataFrame(right[right['city'].isin(unique_cities_left)])"
   ]
  },
  {
   "cell_type": "code",
   "execution_count": 10,
   "id": "de1b1421",
   "metadata": {
    "id": "de1b1421"
   },
   "outputs": [],
   "source": [
    "filtered_left['info'] = filtered_left['name'] + ', ' + filtered_left['address']"
   ]
  },
  {
   "cell_type": "code",
   "execution_count": 11,
   "id": "387040d5",
   "metadata": {
    "id": "387040d5"
   },
   "outputs": [],
   "source": [
    "filtered_right['info'] = filtered_right['name'] + ', ' + filtered_right['address']"
   ]
  },
  {
   "cell_type": "code",
   "execution_count": 12,
   "id": "GfiRd-D60EM7",
   "metadata": {
    "id": "GfiRd-D60EM7"
   },
   "outputs": [],
   "source": [
    "#####################################################"
   ]
  },
  {
   "cell_type": "code",
   "execution_count": 13,
   "id": "1a58b4e8",
   "metadata": {
    "id": "1a58b4e8"
   },
   "outputs": [],
   "source": [
    "# unify zip code \n",
    "import string as st\n",
    "filtered_left = filtered_left.dropna()\n",
    "filtered_right = filtered_right.dropna()\n",
    "\n",
    "filtered_left['postal_code'] = [int(float(i))  for i in filtered_left['postal_code']] \n",
    "filtered_right['zip_code'] = [int(i[:5])  for i in filtered_right['zip_code']] "
   ]
  },
  {
   "cell_type": "code",
   "execution_count": 14,
   "id": "f51aa6f7",
   "metadata": {
    "id": "f51aa6f7"
   },
   "outputs": [],
   "source": [
    "# zip code intersection to filter non matching cases\n",
    "shared_zipcodes = [v for v in filtered_left['postal_code'] if v in filtered_right['zip_code']]\n",
    "filtered_left = filtered_left[filtered_left['postal_code'].isin(shared_zipcodes)]\n",
    "filtered_right = filtered_right[filtered_right['zip_code'].isin(shared_zipcodes)]"
   ]
  },
  {
   "cell_type": "code",
   "execution_count": 15,
   "id": "e8d7e385",
   "metadata": {
    "id": "e8d7e385"
   },
   "outputs": [],
   "source": [
    "# clean info \n",
    "filtered_left['info'] = [i.lower().translate(str.maketrans('', '', st.punctuation)) for i in filtered_left['info']]\n",
    "filtered_right['info'] = [i.lower().translate(str.maketrans('', '', st.punctuation)) for i in filtered_right['info']]"
   ]
  },
  {
   "cell_type": "code",
   "execution_count": 16,
   "id": "dc019cef",
   "metadata": {
    "id": "dc019cef",
    "outputId": "ed007406-b0e4-4ccb-9f9f-6d48fa392036"
   },
   "outputs": [],
   "source": [
    "# try tfidf\n",
    "from sklearn.feature_extraction.text import TfidfVectorizer\n",
    "import numpy as np\n",
    "\n",
    "# merge all info\n",
    "info_all = pd.concat([filtered_left['info'], filtered_right['info']])\n",
    "\n",
    "# tfidf then dot product \n",
    "tfidf = TfidfVectorizer().fit_transform(info_all)\n",
    "similarity = tfidf[:len(filtered_left)] * tfidf[len(filtered_left):].T\n",
    "\n",
    "# filter for high similarity score and mark location \n",
    "\n",
    "similarity_columns = []\n",
    "for i in range(len(filtered_left)):\n",
    "    list1 = [i,np.flatnonzero(similarity[i].toarray() > 0.8)]\n",
    "    similarity_columns.append(list1) \n",
    "\n",
    "# adding all the information \n",
    "matches = []\n",
    "for i in range(len(filtered_left)):\n",
    "    for v in similarity_columns[i][1].T:\n",
    "        matches.append([filtered_left.iloc[i, 0],\n",
    "                       filtered_right.iloc[v, 0],\n",
    "                       similarity[i,v]* 100])"
   ]
  },
  {
   "cell_type": "code",
   "execution_count": 23,
   "id": "5675b41d",
   "metadata": {},
   "outputs": [
    {
     "data": {
      "text/plain": [
       "7022"
      ]
     },
     "execution_count": 23,
     "metadata": {},
     "output_type": "execute_result"
    }
   ],
   "source": [
    "len(matches)"
   ]
  },
  {
   "cell_type": "code",
   "execution_count": null,
   "id": "71ea1155",
   "metadata": {},
   "outputs": [],
   "source": []
  }
 ],
 "metadata": {
  "colab": {
   "provenance": []
  },
  "kernelspec": {
   "display_name": "Python 3 (ipykernel)",
   "language": "python",
   "name": "python3"
  },
  "language_info": {
   "codemirror_mode": {
    "name": "ipython",
    "version": 3
   },
   "file_extension": ".py",
   "mimetype": "text/x-python",
   "name": "python",
   "nbconvert_exporter": "python",
   "pygments_lexer": "ipython3",
   "version": "3.9.13"
  }
 },
 "nbformat": 4,
 "nbformat_minor": 5
}
