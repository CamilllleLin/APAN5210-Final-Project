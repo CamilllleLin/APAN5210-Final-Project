{
 "cells": [
  {
   "cell_type": "code",
   "execution_count": null,
   "id": "9acdda8f",
   "metadata": {},
   "outputs": [],
   "source": [
    "from thefuzz import fuzz"
   ]
  },
  {
   "cell_type": "code",
   "execution_count": null,
   "id": "68c637f7",
   "metadata": {},
   "outputs": [],
   "source": [
    "import matplotlib.pyplot as plt"
   ]
  },
  {
   "cell_type": "code",
   "execution_count": null,
   "id": "48a5f1f8",
   "metadata": {},
   "outputs": [],
   "source": [
    "import pandas as pd"
   ]
  },
  {
   "cell_type": "code",
   "execution_count": null,
   "id": "c3e5e37a",
   "metadata": {},
   "outputs": [],
   "source": [
    "right=pd.read_csv('right_dataset.csv')\n",
    "left=pd.read_csv('left_dataset.csv')"
   ]
  },
  {
   "cell_type": "code",
   "execution_count": null,
   "id": "47066e84",
   "metadata": {},
   "outputs": [],
   "source": [
    "left = left.astype(str)\n",
    "right= right.astype(str)"
   ]
  },
  {
   "cell_type": "code",
   "execution_count": null,
   "id": "d727d460",
   "metadata": {},
   "outputs": [],
   "source": [
    "left.replace(to_replace=pd.NA, value='', inplace=True)"
   ]
  },
  {
   "cell_type": "code",
   "execution_count": null,
   "id": "e7609ce4",
   "metadata": {},
   "outputs": [],
   "source": [
    "#data exploratory analysis"
   ]
  },
  {
   "cell_type": "code",
   "execution_count": null,
   "id": "39818154",
   "metadata": {},
   "outputs": [],
   "source": [
    "from Team23_data_exploratory import data_explore"
   ]
  },
  {
   "cell_type": "code",
   "execution_count": null,
   "id": "e28f4d38",
   "metadata": {},
   "outputs": [],
   "source": [
    "explore_data = data_explore(right, left)"
   ]
  },
  {
   "cell_type": "code",
   "execution_count": null,
   "id": "de6da405",
   "metadata": {},
   "outputs": [],
   "source": [
    "explore_data.right_left_info()\n",
    "explore_data.check_duplicates()\n",
    "explore_data.plot_cities()\n",
    "explore_data.plot_states()\n",
    "explore_data.count_categories()\n",
    "explore_data.plot_categories()"
   ]
  },
  {
   "cell_type": "code",
   "execution_count": null,
   "id": "681f7bf7",
   "metadata": {},
   "outputs": [],
   "source": [
    "from Team23_df import StateDataFrame"
   ]
  },
  {
   "cell_type": "code",
   "execution_count": null,
   "id": "dccdc2f3",
   "metadata": {},
   "outputs": [],
   "source": [
    "city_list_left = list(left['city'].unique())\n",
    "len(city_list_left)"
   ]
  },
  {
   "cell_type": "code",
   "execution_count": null,
   "id": "11324a00",
   "metadata": {},
   "outputs": [],
   "source": [
    "city_list_right= list(right['city'].unique())\n",
    "len(city_list_right)"
   ]
  },
  {
   "cell_type": "markdown",
   "id": "e9b3e743",
   "metadata": {},
   "source": [
    "We have identified that our dataset contains a large number of city clusters. Even if we split the right and left dataframes into smaller dataframes, each sub-dataframe will still contain a significant number of rows. Therefore, implementing thefuzz algorithm to match similar cities will result in poor time complexity and performance."
   ]
  }
 ],
 "metadata": {
  "kernelspec": {
   "display_name": "Python 3 (ipykernel)",
   "language": "python",
   "name": "python3"
  },
  "language_info": {
   "codemirror_mode": {
    "name": "ipython",
    "version": 3
   },
   "file_extension": ".py",
   "mimetype": "text/x-python",
   "name": "python",
   "nbconvert_exporter": "python",
   "pygments_lexer": "ipython3",
   "version": "3.9.13"
  }
 },
 "nbformat": 4,
 "nbformat_minor": 5
}
